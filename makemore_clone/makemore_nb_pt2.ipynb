{
 "cells": [
  {
   "cell_type": "code",
   "execution_count": 1,
   "metadata": {},
   "outputs": [],
   "source": [
    "import torch\n",
    "import torch.nn.functional as F\n",
    "import matplotlib.pyplot as plt\n",
    "\n",
    "from string import ascii_lowercase\n",
    "import requests\n",
    "import random"
   ]
  },
  {
   "cell_type": "code",
   "execution_count": 2,
   "metadata": {},
   "outputs": [
    {
     "name": "stdout",
     "output_type": "stream",
     "text": [
      "len(words)=32033\n",
      "words[:5]=['emma', 'olivia', 'ava', 'isabella', 'sophia']\n"
     ]
    }
   ],
   "source": [
    "# get list of words\n",
    "words = requests.get(\n",
    "    \"https://raw.githubusercontent.com/karpathy/makemore/master/names.txt\"\n",
    "    ).text.splitlines()\n",
    "print(f'{len(words)=}')\n",
    "print(f'{words[:5]=}')"
   ]
  },
  {
   "cell_type": "code",
   "execution_count": 3,
   "metadata": {},
   "outputs": [],
   "source": [
    "# integer mappings of characters\n",
    "chars = ascii_lowercase\n",
    "stoi = {s:i+1 for i, s in enumerate(chars)}\n",
    "stoi['.'] = 0\n",
    "itos = {i:s for s, i in stoi.items()}"
   ]
  },
  {
   "cell_type": "code",
   "execution_count": 4,
   "metadata": {},
   "outputs": [],
   "source": [
    "# number of characters including '.'\n",
    "char_total = 27\n",
    "# number of previous characters to consider for prediction\n",
    "block_size = 3\n",
    "# chosen dimensionality of characters\n",
    "char_dim = 2"
   ]
  },
  {
   "cell_type": "code",
   "execution_count": 5,
   "metadata": {},
   "outputs": [],
   "source": [
    "# build the dataset\n",
    "\n",
    "X, Y = [], []\n",
    "for w in words[:5]:\n",
    "  \n",
    "  #print(w)\n",
    "  context = [0] * block_size\n",
    "  for ch in w + '.':\n",
    "    ix = stoi[ch]\n",
    "    X.append(context)\n",
    "    Y.append(ix)\n",
    "    #print(''.join(itos[i] for i in context), '--->', itos[ix])\n",
    "    context = context[1:] + [ix] # crop and append\n",
    "  \n",
    "X = torch.tensor(X)\n",
    "Y = torch.tensor(Y)"
   ]
  },
  {
   "cell_type": "code",
   "execution_count": 6,
   "metadata": {},
   "outputs": [],
   "source": [
    "# each of char_total characters will have a char_dim-dimensional embedding\n",
    "C = torch.randn(char_total, char_dim)"
   ]
  },
  {
   "cell_type": "code",
   "execution_count": 7,
   "metadata": {},
   "outputs": [],
   "source": [
    "# retrieve char_dim-dimensional vectors for every char_total character embedding in X\n",
    "emb = C[X]"
   ]
  },
  {
   "cell_type": "code",
   "execution_count": 8,
   "metadata": {},
   "outputs": [
    {
     "name": "stdout",
     "output_type": "stream",
     "text": [
      "C.shape=torch.Size([27, 2])\n",
      "X.shape=torch.Size([32, 3])\n",
      "emb.shape=torch.Size([32, 3, 2])\n"
     ]
    }
   ],
   "source": [
    "print(f'{C.shape=}')\n",
    "print(f'{X.shape=}')\n",
    "print(f'{emb.shape=}')"
   ]
  },
  {
   "cell_type": "code",
   "execution_count": 9,
   "metadata": {},
   "outputs": [],
   "source": [
    "# number of neurons in each layer\n",
    "layer1_size = 100"
   ]
  },
  {
   "cell_type": "code",
   "execution_count": 10,
   "metadata": {},
   "outputs": [],
   "source": [
    "# weights & biases of first layer\n",
    "# weights are block_size * char_dim\n",
    "# biases are scalars\n",
    "W1 = torch.randn((block_size*char_dim, layer1_size))\n",
    "b1 = torch.randn(layer1_size)"
   ]
  },
  {
   "cell_type": "markdown",
   "metadata": {},
   "source": [
    "We want to perform `emb @ W1 + b1`, but we cannot matrix multiply `[228146, 3, 4]` by `[6, 100]`. We need a way to concatenate the embedding into a smaller space.\n",
    "\n",
    "The theory is to break out each character in block_size, like `[emb[:, 0, :], emb[:, 1, :] ..., emb[:, n, :]`. The `torch.unbind()` function works here, but `<tensor>.view()` works even better.\n",
    "\n",
    "(`.view()` works even better because it just manipulates the \"view\" of the underlying storage of the tensor, which is just all the numbers in the tensor. concatenate & unbind create an entirely new tensor, which requires a lot of new memory.)"
   ]
  },
  {
   "cell_type": "code",
   "execution_count": 11,
   "metadata": {},
   "outputs": [
    {
     "data": {
      "text/plain": [
       "tensor(True)"
      ]
     },
     "execution_count": 11,
     "metadata": {},
     "output_type": "execute_result"
    }
   ],
   "source": [
    "# unbind embedding at the embedding's block_size dimension\n",
    "# 2nd dimension (block size of 3) indexed at 1\n",
    "\n",
    "# compare .view() to unbind & concat\n",
    "torch.all(emb.view(emb.shape[0], emb.shape[1]*emb.shape[2]) == torch.cat(torch.unbind(emb, 1), 1))"
   ]
  },
  {
   "cell_type": "code",
   "execution_count": 12,
   "metadata": {},
   "outputs": [
    {
     "name": "stdout",
     "output_type": "stream",
     "text": [
      "l1.shape=torch.Size([32, 100])\n"
     ]
    }
   ],
   "source": [
    "# multiply embedding by weights & biases in first layer\n",
    "l1 = emb.view(emb.shape[0], emb.shape[1]*emb.shape[2]) @ W1 + b1\n",
    "print(f'{l1.shape=}')"
   ]
  },
  {
   "cell_type": "code",
   "execution_count": 13,
   "metadata": {},
   "outputs": [],
   "source": [
    "# weights & biases of output layer\n",
    "W2 = torch.randn(layer1_size, char_total)\n",
    "b2 = torch.randn(char_total)"
   ]
  },
  {
   "cell_type": "code",
   "execution_count": 14,
   "metadata": {},
   "outputs": [
    {
     "name": "stdout",
     "output_type": "stream",
     "text": [
      "logits.shape=torch.Size([32, 27])\n",
      "prob.shape=torch.Size([32, 27])\n"
     ]
    }
   ],
   "source": [
    "# output layer (logits)\n",
    "logits = l1 @ W2 + b2\n",
    "print(f'{logits.shape=}')\n",
    "# softmax\n",
    "counts = logits.exp()\n",
    "prob = counts / counts.sum(1, keepdim=True)\n",
    "print(f'{prob.shape=}')"
   ]
  },
  {
   "cell_type": "code",
   "execution_count": 15,
   "metadata": {},
   "outputs": [
    {
     "name": "stdout",
     "output_type": "stream",
     "text": [
      "loss=tensor(inf)\n"
     ]
    }
   ],
   "source": [
    "# loss function (average negative log likelihood)\n",
    "loss = -prob[torch.arange(prob.shape[0]), Y].log().mean()\n",
    "print(f'{loss=}')"
   ]
  },
  {
   "cell_type": "markdown",
   "metadata": {},
   "source": [
    "Review"
   ]
  },
  {
   "cell_type": "code",
   "execution_count": 16,
   "metadata": {},
   "outputs": [
    {
     "name": "stdout",
     "output_type": "stream",
     "text": [
      "X.shape=torch.Size([32, 3])\n",
      "Y.shape=torch.Size([32])\n",
      "C.shape=torch.Size([27, 2])\n",
      "W1.shape=torch.Size([6, 100])\n",
      "b1.shape=torch.Size([100])\n",
      "W2.shape=torch.Size([100, 27])\n",
      "b2.shape=torch.Size([27])\n",
      "Parameter total: 3481\n",
      "emb.shape=torch.Size([32, 3, 2])\n",
      "l1.shape=torch.Size([32, 100])\n",
      "logits.shape=torch.Size([32, 27])\n",
      "counts.shape=torch.Size([32, 27])\n",
      "prob.shape=torch.Size([32, 27])\n",
      "loss=tensor(17.7697)\n"
     ]
    }
   ],
   "source": [
    "print(f'{X.shape=}')\n",
    "print(f'{Y.shape=}')\n",
    "\n",
    "g = torch.Generator().manual_seed(2147483647)\n",
    "\n",
    "C = torch.randn((char_total, char_dim), generator=g)\n",
    "W1 = torch.randn((char_dim*block_size, layer1_size), generator=g)\n",
    "b1 = torch.randn(layer1_size, generator=g)\n",
    "W2 = torch.randn((layer1_size, char_total), generator=g)\n",
    "b2 = torch.randn(char_total, generator=g)\n",
    "parameters = [C, W1, b1, W2, b2]\n",
    "print(f'{C.shape=}')\n",
    "print(f'{W1.shape=}')\n",
    "print(f'{b1.shape=}')\n",
    "print(f'{W2.shape=}')\n",
    "print(f'{b2.shape=}')\n",
    "print('Parameter total:', sum(p.nelement() for p in parameters))\n",
    "\n",
    "emb = C[X]\n",
    "l1 = torch.tanh(emb.view(-1, char_dim*block_size) @ W1 + b1)\n",
    "logits = l1 @ W2 + b2\n",
    "counts = logits.exp()\n",
    "prob = counts / counts.sum(1, keepdim=True)\n",
    "loss = -prob[torch.arange(prob.shape[0]), Y].log().mean()\n",
    "print(f'{emb.shape=}')\n",
    "print(f'{l1.shape=}')\n",
    "print(f'{logits.shape=}')\n",
    "print(f'{counts.shape=}')\n",
    "print(f'{prob.shape=}')\n",
    "print(f'{loss=}')"
   ]
  },
  {
   "cell_type": "markdown",
   "metadata": {},
   "source": [
    "Converting the logits to loss manually is reinventing the wheel. We can use torch's `.cross_entropy()` to do exactly this."
   ]
  },
  {
   "cell_type": "code",
   "execution_count": 17,
   "metadata": {},
   "outputs": [
    {
     "name": "stdout",
     "output_type": "stream",
     "text": [
      "cross_entropy_loss=tensor(17.7697)\n"
     ]
    }
   ],
   "source": [
    "cross_entropy_loss = F.cross_entropy(logits, Y)\n",
    "print(f'{cross_entropy_loss=}')"
   ]
  },
  {
   "cell_type": "code",
   "execution_count": 18,
   "metadata": {},
   "outputs": [],
   "source": [
    "# all parameters require a gradient (to tune)\n",
    "for p in parameters:\n",
    "    p.requires_grad = True"
   ]
  },
  {
   "cell_type": "code",
   "execution_count": 19,
   "metadata": {},
   "outputs": [],
   "source": [
    "# define learning rate\n",
    "lr = 0.4"
   ]
  },
  {
   "cell_type": "code",
   "execution_count": 20,
   "metadata": {},
   "outputs": [],
   "source": [
    "# redefine X and Y to include entire dataset\n",
    "\n",
    "X, Y = [], []\n",
    "for w in words:\n",
    "  \n",
    "  #print(w)\n",
    "  context = [0] * block_size\n",
    "  for ch in w + '.':\n",
    "    ix = stoi[ch]\n",
    "    X.append(context)\n",
    "    Y.append(ix)\n",
    "    #print(''.join(itos[i] for i in context), '--->', itos[ix])\n",
    "    context = context[1:] + [ix] # crop and append\n",
    "  \n",
    "X = torch.tensor(X)\n",
    "Y = torch.tensor(Y)"
   ]
  },
  {
   "cell_type": "code",
   "execution_count": 21,
   "metadata": {},
   "outputs": [],
   "source": [
    "# define batch size for training\n",
    "batch_size = 32"
   ]
  },
  {
   "cell_type": "code",
   "execution_count": 22,
   "metadata": {},
   "outputs": [],
   "source": [
    "lre = torch.linspace(-3, 0, 1000) # linear learning rate linspace\n",
    "lrs = 10**lre # exponential instead of linear change in learning rate\n",
    "\n",
    "lri = []\n",
    "lossi = []\n",
    "for i in range(1000):\n",
    "    # construct minibatch\n",
    "    ix = torch.randint(0, X.shape[0], (batch_size,))\n",
    "\n",
    "    # forward pass\n",
    "    emb = C[X[ix]]\n",
    "    l1 = torch.tanh(emb.view(-1, char_dim*block_size) @ W1 + b1)\n",
    "    logits = l1 @ W2 + b2\n",
    "    loss = F.cross_entropy(logits, Y[ix])\n",
    "    # backward pass\n",
    "    for p in parameters:\n",
    "        p.grad = None\n",
    "    loss.backward()\n",
    "    # update\n",
    "    lr = lrs[i]\n",
    "    for p in parameters:\n",
    "        p.data += -lr * p.grad\n",
    "    # track stats\n",
    "    lri.append(lre[i])\n",
    "    lossi.append(loss.item())\n",
    "#print(f'{loss.item()=}')"
   ]
  },
  {
   "cell_type": "code",
   "execution_count": 23,
   "metadata": {},
   "outputs": [
    {
     "data": {
      "text/plain": [
       "[<matplotlib.lines.Line2D at 0x217f9534dc0>]"
      ]
     },
     "execution_count": 23,
     "metadata": {},
     "output_type": "execute_result"
    },
    {
     "data": {
      "image/png": "[encoded data removed]",
      "text/plain": [
       "<Figure size 640x480 with 1 Axes>"
      ]
     },
     "metadata": {},
     "output_type": "display_data"
    }
   ],
   "source": [
    "plt.plot(lri, lossi)"
   ]
  },
  {
   "cell_type": "code",
   "execution_count": 24,
   "metadata": {},
   "outputs": [
    {
     "name": "stdout",
     "output_type": "stream",
     "text": [
      "loss=tensor(8.4358, grad_fn=<NllLossBackward0>)\n"
     ]
    }
   ],
   "source": [
    "# checking loss on entire dataset\n",
    "emb = C[X]\n",
    "# -1 in emb.view() instructs torch to infer the actual dimension from the others\n",
    "l1 = torch.tanh(emb.view(-1, char_dim*block_size) @ W1 + b1)\n",
    "logits = l1 @ W2 + b2\n",
    "loss = F.cross_entropy(logits, Y)\n",
    "print(f'{loss=}')"
   ]
  },
  {
   "cell_type": "markdown",
   "metadata": {},
   "source": [
    "train/val/test split <br>\n",
    "80%, 10%, 10% <br>\n",
    "train: for optimizing parameters of model <br>\n",
    "validation: for development of the hyperparameters of the model <br>\n",
    "test: evaluate true performance of model <br>"
   ]
  },
  {
   "cell_type": "code",
   "execution_count": 39,
   "metadata": {},
   "outputs": [],
   "source": [
    "# build dataset with splits\n",
    "def build_dataset(words):\n",
    "    X, Y = [], []\n",
    "    for w in words:\n",
    "\n",
    "        context = [0] * block_size\n",
    "        for ch in w + '.':\n",
    "            ix = stoi[ch]\n",
    "            X.append(context)\n",
    "            Y.append(ix)\n",
    "            context = context[1:] + [ix]\n",
    "    \n",
    "    X = torch.tensor(X)\n",
    "    Y = torch.tensor(Y)\n",
    "    return X, Y\n",
    "\n",
    "random.seed(42)\n",
    "random.shuffle(words)\n",
    "n1 = int(0.8*len(words))\n",
    "n2 = int(0.9*len(words))\n",
    "Xtr, Ytr = build_dataset(words[:n1])\n",
    "Xdev, Ydev = build_dataset(words[n1:n2])\n",
    "Xte, Yte = build_dataset(words[n2:])"
   ]
  },
  {
   "cell_type": "code",
   "execution_count": 40,
   "metadata": {},
   "outputs": [
    {
     "name": "stdout",
     "output_type": "stream",
     "text": [
      "torch.Size([182437, 3]) torch.Size([182437])\n",
      "torch.Size([22781, 3]) torch.Size([22781])\n",
      "torch.Size([22928, 3]) torch.Size([22928])\n"
     ]
    }
   ],
   "source": [
    "# training, val, and testing dataset sizes\n",
    "print(Xtr.shape, Ytr.shape)\n",
    "print(Xdev.shape, Ydev.shape)\n",
    "print(Xte.shape, Yte.shape)"
   ]
  },
  {
   "cell_type": "code",
   "execution_count": 31,
   "metadata": {},
   "outputs": [],
   "source": [
    "# training model on training data\n",
    "\n",
    "lri = []\n",
    "lossi = []\n",
    "for i in range(10000):\n",
    "    # construct minibatch\n",
    "    ix = torch.randint(0, Xtr.shape[0], (batch_size,))\n",
    "\n",
    "    # forward pass\n",
    "    emb = C[Xtr[ix]]\n",
    "    l1 = torch.tanh(emb.view(-1, char_dim*block_size) @ W1 + b1)\n",
    "    logits = l1 @ W2 + b2\n",
    "    loss = F.cross_entropy(logits, Ytr[ix])\n",
    "    # backward pass\n",
    "    for p in parameters:\n",
    "        p.grad = None\n",
    "    loss.backward()\n",
    "    # update\n",
    "    # lr = lrs[i]\n",
    "    lr = 0.1\n",
    "    for p in parameters:\n",
    "        p.data += -lr * p.grad\n",
    "    # track stats\n",
    "    # lri.append(lre[i])\n",
    "    # lossi.append(loss.item())\n",
    "#print(f'{loss.item()=}')"
   ]
  },
  {
   "cell_type": "code",
   "execution_count": 34,
   "metadata": {},
   "outputs": [
    {
     "name": "stdout",
     "output_type": "stream",
     "text": [
      "2.4175190925598145\n"
     ]
    }
   ],
   "source": [
    "# training\n",
    "emb = C[Xtr]\n",
    "l1 = torch.tanh(emb.view(-1, char_dim*block_size) @ W1 + b1)\n",
    "logits = l1 @ W2 + b2\n",
    "loss = F.cross_entropy(logits, Ytr)\n",
    "print(loss.item())"
   ]
  },
  {
   "cell_type": "code",
   "execution_count": 33,
   "metadata": {},
   "outputs": [
    {
     "name": "stdout",
     "output_type": "stream",
     "text": [
      "2.4131875038146973\n"
     ]
    }
   ],
   "source": [
    "# validation\n",
    "emb = C[Xdev]\n",
    "l1 = torch.tanh(emb.view(-1, char_dim*block_size) @ W1 + b1)\n",
    "logits = l1 @ W2 + b2\n",
    "loss = F.cross_entropy(logits, Ydev)\n",
    "print(loss.item())"
   ]
  },
  {
   "cell_type": "markdown",
   "metadata": {},
   "source": [
    "Our training and validation scores are roughly equal, so our model is underfitting. It is not powerful enough to memorize the training data. Let's increase the size of the network so that our model has a better understanding of the training data, but can still generalize to the validation data."
   ]
  },
  {
   "cell_type": "code",
   "execution_count": 45,
   "metadata": {},
   "outputs": [
    {
     "name": "stdout",
     "output_type": "stream",
     "text": [
      "C.shape=torch.Size([27, 2])\n",
      "W1.shape=torch.Size([6, 300])\n",
      "b1.shape=torch.Size([300])\n",
      "W2.shape=torch.Size([300, 27])\n",
      "b2.shape=torch.Size([27])\n",
      "Parameter total: 10281\n"
     ]
    }
   ],
   "source": [
    "# increasing size of model\n",
    "\n",
    "layer1_size = 300\n",
    "\n",
    "C = torch.randn((char_total, char_dim), generator=g)\n",
    "W1 = torch.randn((char_dim*block_size, layer1_size), generator=g)\n",
    "b1 = torch.randn(layer1_size, generator=g)\n",
    "W2 = torch.randn((layer1_size, char_total), generator=g)\n",
    "b2 = torch.randn(char_total, generator=g)\n",
    "parameters = [C, W1, b1, W2, b2]\n",
    "print(f'{C.shape=}')\n",
    "print(f'{W1.shape=}')\n",
    "print(f'{b1.shape=}')\n",
    "print(f'{W2.shape=}')\n",
    "print(f'{b2.shape=}')\n",
    "print('Parameter total:', sum(p.nelement() for p in parameters))\n",
    "for p in parameters:\n",
    "    p.requires_grad = True"
   ]
  },
  {
   "cell_type": "code",
   "execution_count": 61,
   "metadata": {},
   "outputs": [],
   "source": [
    "# lri = []\n",
    "lossi = []\n",
    "stepi = []\n",
    "lr = 0.01\n",
    "for i in range(30000):\n",
    "    # construct minibatch\n",
    "    ix = torch.randint(0, Xtr.shape[0], (batch_size,))\n",
    "\n",
    "    # forward pass\n",
    "    emb = C[Xtr[ix]]\n",
    "    l1 = torch.tanh(emb.view(-1, char_dim*block_size) @ W1 + b1)\n",
    "    logits = l1 @ W2 + b2\n",
    "    loss = F.cross_entropy(logits, Ytr[ix])\n",
    "    # backward pass\n",
    "    for p in parameters:\n",
    "        p.grad = None\n",
    "    loss.backward()\n",
    "    # update\n",
    "    # lr = lrs[i]\n",
    "    for p in parameters:\n",
    "        p.data += -lr * p.grad\n",
    "    # track stats\n",
    "    # lri.append(lre[i])\n",
    "    stepi.append(i)\n",
    "    lossi.append(loss.item())\n",
    "#print(f'{loss.item()=}')"
   ]
  },
  {
   "cell_type": "code",
   "execution_count": 47,
   "metadata": {},
   "outputs": [
    {
     "data": {
      "text/plain": [
       "[<matplotlib.lines.Line2D at 0x21783a8f4c0>]"
      ]
     },
     "execution_count": 47,
     "metadata": {},
     "output_type": "execute_result"
    },
    {
     "data": {
      "image/png": "[encoded data removed]",
      "text/plain": [
       "<Figure size 640x480 with 1 Axes>"
      ]
     },
     "metadata": {},
     "output_type": "display_data"
    }
   ],
   "source": [
    "plt.plot(stepi, lossi)"
   ]
  },
  {
   "cell_type": "code",
   "execution_count": 48,
   "metadata": {},
   "outputs": [],
   "source": [
    "tr_losses = []\n",
    "dev_losses = []"
   ]
  },
  {
   "cell_type": "code",
   "execution_count": 62,
   "metadata": {},
   "outputs": [
    {
     "name": "stdout",
     "output_type": "stream",
     "text": [
      "trloss.item()=2.2305052280426025\n",
      "devloss.item()=2.2615129947662354\n"
     ]
    }
   ],
   "source": [
    "# training\n",
    "emb = C[Xtr]\n",
    "l1 = torch.tanh(emb.view(-1, char_dim*block_size) @ W1 + b1)\n",
    "logits = l1 @ W2 + b2\n",
    "trloss = F.cross_entropy(logits, Ytr)\n",
    "tr_losses.append((lr, trloss))\n",
    "print(f'{trloss.item()=}')\n",
    "\n",
    "# validation\n",
    "emb = C[Xdev]\n",
    "l1 = torch.tanh(emb.view(-1, char_dim*block_size) @ W1 + b1)\n",
    "logits = l1 @ W2 + b2\n",
    "devloss = F.cross_entropy(logits, Ydev)\n",
    "dev_losses.append((lr, devloss))\n",
    "print(f'{devloss.item()=}')"
   ]
  },
  {
   "cell_type": "code",
   "execution_count": 67,
   "metadata": {},
   "outputs": [
    {
     "name": "stdout",
     "output_type": "stream",
     "text": [
      "tr 0.1 2.583890199661255\n",
      "dev 0.1 2.598050117492676\n",
      "tr 0.1 2.5059657096862793\n",
      "dev 0.1 2.5342464447021484\n",
      "tr 0.05 2.3206613063812256\n",
      "dev 0.05 2.3477091789245605\n",
      "tr 0.05 2.3065757751464844\n",
      "dev 0.05 2.3350274562835693\n",
      "tr 0.02 2.252927541732788\n",
      "dev 0.02 2.2842824459075928\n",
      "tr 0.02 2.250760793685913\n",
      "dev 0.02 2.280562162399292\n",
      "tr 0.01 2.2305052280426025\n",
      "dev 0.01 2.2615129947662354\n"
     ]
    }
   ],
   "source": [
    "for i in range(len(tr_losses)):\n",
    "    print('tr', tr_losses[i][0], tr_losses[i][1].item())\n",
    "    print('dev', dev_losses[i][0], dev_losses[i][1].item())"
   ]
  },
  {
   "cell_type": "markdown",
   "metadata": {},
   "source": [
    "The losses, though similar, are now lower for the dev set. The network is better fitting to the training data. It's probable that the bottleneck for accuracy is now the embedding vector (the input dimensions are too low). Let's increase the number of dimensions to represent a character."
   ]
  },
  {
   "cell_type": "code",
   "execution_count": 69,
   "metadata": {},
   "outputs": [
    {
     "data": {
      "image/png": "[encoded data removed]",
      "text/plain": [
       "<Figure size 800x800 with 1 Axes>"
      ]
     },
     "metadata": {},
     "output_type": "display_data"
    }
   ],
   "source": [
    "# visualize dimensions 0 and 1 of the embedding matrix C for all characters\n",
    "plt.figure(figsize=(8,8))\n",
    "plt.scatter(C[:,0].data, C[:,1].data, s=200)\n",
    "for i in range(C.shape[0]):\n",
    "    plt.text(C[i,0].item(), C[i,1].item(), itos[i], ha=\"center\", va=\"center\", color='white')\n",
    "plt.grid('minor')"
   ]
  },
  {
   "cell_type": "code",
   "execution_count": 72,
   "metadata": {},
   "outputs": [
    {
     "name": "stdout",
     "output_type": "stream",
     "text": [
      "C.shape=torch.Size([27, 10])\n",
      "W1.shape=torch.Size([30, 200])\n",
      "b1.shape=torch.Size([200])\n",
      "W2.shape=torch.Size([200, 27])\n",
      "b2.shape=torch.Size([27])\n",
      "Parameter total: 11897\n"
     ]
    }
   ],
   "source": [
    "# increasing total character dimensions\n",
    "# decreasing network size\n",
    "\n",
    "char_dim = 10\n",
    "layer1_size = 200\n",
    "\n",
    "C = torch.randn((char_total, char_dim), generator=g)\n",
    "W1 = torch.randn((char_dim*block_size, layer1_size), generator=g)\n",
    "b1 = torch.randn(layer1_size, generator=g)\n",
    "W2 = torch.randn((layer1_size, char_total), generator=g)\n",
    "b2 = torch.randn(char_total, generator=g)\n",
    "parameters = [C, W1, b1, W2, b2]\n",
    "print(f'{C.shape=}')\n",
    "print(f'{W1.shape=}')\n",
    "print(f'{b1.shape=}')\n",
    "print(f'{W2.shape=}')\n",
    "print(f'{b2.shape=}')\n",
    "print('Parameter total:', sum(p.nelement() for p in parameters))\n",
    "for p in parameters:\n",
    "    p.requires_grad = True"
   ]
  },
  {
   "cell_type": "code",
   "execution_count": 73,
   "metadata": {},
   "outputs": [],
   "source": [
    "tr_losses = []\n",
    "dev_losses = []"
   ]
  },
  {
   "cell_type": "code",
   "execution_count": 74,
   "metadata": {},
   "outputs": [],
   "source": [
    "lossi = []\n",
    "stepi = []"
   ]
  },
  {
   "cell_type": "code",
   "execution_count": 81,
   "metadata": {},
   "outputs": [],
   "source": [
    "# lri = []\n",
    "lr = 0.01\n",
    "for i in range(50000):\n",
    "    # construct minibatch\n",
    "    ix = torch.randint(0, Xtr.shape[0], (batch_size,))\n",
    "\n",
    "    # forward pass\n",
    "    emb = C[Xtr[ix]]\n",
    "    l1 = torch.tanh(emb.view(-1, char_dim*block_size) @ W1 + b1)\n",
    "    logits = l1 @ W2 + b2\n",
    "    loss = F.cross_entropy(logits, Ytr[ix])\n",
    "    # backward pass\n",
    "    for p in parameters:\n",
    "        p.grad = None\n",
    "    loss.backward()\n",
    "    # update\n",
    "    # lr = lrs[i]\n",
    "    for p in parameters:\n",
    "        p.data += -lr * p.grad\n",
    "    # track stats\n",
    "    # lri.append(lre[i])\n",
    "    stepi.append(i+100_000)\n",
    "    lossi.append(loss.log10().item())\n",
    "#print(f'{loss.item()=}')"
   ]
  },
  {
   "cell_type": "code",
   "execution_count": 82,
   "metadata": {},
   "outputs": [
    {
     "name": "stdout",
     "output_type": "stream",
     "text": [
      "trloss.item()=2.1682283878326416\n",
      "devloss.item()=2.2131683826446533\n"
     ]
    }
   ],
   "source": [
    "# training\n",
    "emb = C[Xtr]\n",
    "l1 = torch.tanh(emb.view(-1, char_dim*block_size) @ W1 + b1)\n",
    "logits = l1 @ W2 + b2\n",
    "trloss = F.cross_entropy(logits, Ytr)\n",
    "tr_losses.append((lr, trloss))\n",
    "print(f'{trloss.item()=}')\n",
    "\n",
    "# validation\n",
    "emb = C[Xdev]\n",
    "l1 = torch.tanh(emb.view(-1, char_dim*block_size) @ W1 + b1)\n",
    "logits = l1 @ W2 + b2\n",
    "devloss = F.cross_entropy(logits, Ydev)\n",
    "dev_losses.append((lr, devloss))\n",
    "print(f'{devloss.item()=}')"
   ]
  },
  {
   "cell_type": "code",
   "execution_count": 83,
   "metadata": {},
   "outputs": [
    {
     "data": {
      "text/plain": [
       "[<matplotlib.lines.Line2D at 0x21784844520>]"
      ]
     },
     "execution_count": 83,
     "metadata": {},
     "output_type": "execute_result"
    },
    {
     "data": {
      "image/png": "[encoded data removed]",
      "text/plain": [
       "<Figure size 640x480 with 1 Axes>"
      ]
     },
     "metadata": {},
     "output_type": "display_data"
    }
   ],
   "source": [
    "plt.plot(stepi, lossi)"
   ]
  },
  {
   "cell_type": "code",
   "execution_count": 84,
   "metadata": {},
   "outputs": [
    {
     "name": "stdout",
     "output_type": "stream",
     "text": [
      "tr 0.1 2.3192052841186523\n",
      "dev 0.1 2.3631107807159424\n",
      "tr 0.01 2.1737899780273438\n",
      "dev 0.01 2.2142884731292725\n",
      "tr 0.01 2.1682283878326416\n",
      "dev 0.01 2.2131683826446533\n"
     ]
    }
   ],
   "source": [
    "for i in range(len(tr_losses)):\n",
    "    print('tr', tr_losses[i][0], tr_losses[i][1].item())\n",
    "    print('dev', dev_losses[i][0], dev_losses[i][1].item())"
   ]
  },
  {
   "cell_type": "code",
   "execution_count": 85,
   "metadata": {},
   "outputs": [
    {
     "name": "stdout",
     "output_type": "stream",
     "text": [
      "mona.\n",
      "gryanniellend.\n",
      "ryalerethrisendraege.\n",
      "zeredielin.\n",
      "shi.\n",
      "jenleigh.\n",
      "can.\n",
      "narleiyah.\n",
      "hona.\n",
      "cayshabergahirael.\n",
      "janie.\n",
      "jelippe.\n",
      "paisou.\n",
      "zayven.\n",
      "jylene.\n"
     ]
    }
   ],
   "source": [
    "# sample from the model\n",
    "g = torch.Generator().manual_seed(2147483647 + 10)\n",
    "\n",
    "for _ in range(15):\n",
    "    \n",
    "    out = []\n",
    "    context = [0] * block_size # initialize with all ...\n",
    "    while True:\n",
    "      emb = C[torch.tensor([context])] # (1,block_size,d)\n",
    "      l1 = torch.tanh(emb.view(1, -1) @ W1 + b1)\n",
    "      logits = l1 @ W2 + b2\n",
    "      probs = F.softmax(logits, dim=1)\n",
    "      ix = torch.multinomial(probs, num_samples=1, generator=g).item()\n",
    "      context = context[1:] + [ix]\n",
    "      out.append(ix)\n",
    "      if ix == 0:\n",
    "        break\n",
    "    \n",
    "    print(''.join(itos[i] for i in out))"
   ]
  }
 ],
 "metadata": {
  "kernelspec": {
   "display_name": "venv",
   "language": "python",
   "name": "python3"
  },
  "language_info": {
   "codemirror_mode": {
    "name": "ipython",
    "version": 3
   },
   "file_extension": ".py",
   "mimetype": "text/x-python",
   "name": "python",
   "nbconvert_exporter": "python",
   "pygments_lexer": "ipython3",
   "version": "3.10.11"
  }
 },
 "nbformat": 4,
 "nbformat_minor": 2
}
