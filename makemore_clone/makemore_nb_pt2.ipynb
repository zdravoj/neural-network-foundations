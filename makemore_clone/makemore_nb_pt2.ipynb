{
 "cells": [
  {
   "cell_type": "code",
   "execution_count": 1,
   "metadata": {},
   "outputs": [],
   "source": [
    "import torch\n",
    "import torch.nn.functional as F\n",
    "import matplotlib.pyplot as plt\n",
    "\n",
    "from string import ascii_lowercase\n",
    "import requests"
   ]
  },
  {
   "cell_type": "code",
   "execution_count": 2,
   "metadata": {},
   "outputs": [
    {
     "name": "stdout",
     "output_type": "stream",
     "text": [
      "len(words)=32033\n",
      "words[:5]=['emma', 'olivia', 'ava', 'isabella', 'sophia']\n"
     ]
    }
   ],
   "source": [
    "# get list of words\n",
    "words = requests.get(\n",
    "    \"https://raw.githubusercontent.com/karpathy/makemore/master/names.txt\"\n",
    "    ).text.splitlines()\n",
    "print(f'{len(words)=}')\n",
    "print(f'{words[:5]=}')"
   ]
  },
  {
   "cell_type": "code",
   "execution_count": 3,
   "metadata": {},
   "outputs": [],
   "source": [
    "# integer mappings of characters\n",
    "chars = ascii_lowercase\n",
    "stoi = {s:i+1 for i, s in enumerate(chars)}\n",
    "stoi['.'] = 0\n",
    "itos = {i:s for s, i in stoi.items()}"
   ]
  },
  {
   "cell_type": "code",
   "execution_count": 4,
   "metadata": {},
   "outputs": [],
   "source": [
    "# number of characters including '.'\n",
    "char_total = 27\n",
    "# number of previous characters to consider for prediction\n",
    "block_size = 3\n",
    "# chosen dimensionality of characters\n",
    "char_dim = 2"
   ]
  },
  {
   "cell_type": "code",
   "execution_count": 5,
   "metadata": {},
   "outputs": [],
   "source": [
    "# build the dataset\n",
    "\n",
    "X, Y = [], []\n",
    "for w in words[:5]:\n",
    "  \n",
    "  #print(w)\n",
    "  context = [0] * block_size\n",
    "  for ch in w + '.':\n",
    "    ix = stoi[ch]\n",
    "    X.append(context)\n",
    "    Y.append(ix)\n",
    "    #print(''.join(itos[i] for i in context), '--->', itos[ix])\n",
    "    context = context[1:] + [ix] # crop and append\n",
    "  \n",
    "X = torch.tensor(X)\n",
    "Y = torch.tensor(Y)"
   ]
  },
  {
   "cell_type": "code",
   "execution_count": 106,
   "metadata": {},
   "outputs": [],
   "source": [
    "# each of char_total characters will have a char_dim-dimensional embedding\n",
    "C = torch.randn(char_total, char_dim)"
   ]
  },
  {
   "cell_type": "code",
   "execution_count": 7,
   "metadata": {},
   "outputs": [],
   "source": [
    "# retrieve char_dim-dimensional vectors for every char_total character embedding in X\n",
    "emb = C[X]"
   ]
  },
  {
   "cell_type": "code",
   "execution_count": 8,
   "metadata": {},
   "outputs": [
    {
     "name": "stdout",
     "output_type": "stream",
     "text": [
      "C.shape=torch.Size([27, 2])\n",
      "X.shape=torch.Size([32, 3])\n",
      "emb.shape=torch.Size([32, 3, 2])\n"
     ]
    }
   ],
   "source": [
    "print(f'{C.shape=}')\n",
    "print(f'{X.shape=}')\n",
    "print(f'{emb.shape=}')"
   ]
  },
  {
   "cell_type": "code",
   "execution_count": 9,
   "metadata": {},
   "outputs": [],
   "source": [
    "# number of neurons in each layer\n",
    "layer1_size = 100"
   ]
  },
  {
   "cell_type": "code",
   "execution_count": 10,
   "metadata": {},
   "outputs": [],
   "source": [
    "# weights & biases of first layer\n",
    "# weights are block_size * char_dim\n",
    "# biases are scalars\n",
    "W1 = torch.randn((block_size*char_dim, layer1_size))\n",
    "b1 = torch.randn(layer1_size)"
   ]
  },
  {
   "cell_type": "markdown",
   "metadata": {},
   "source": [
    "We want to perform `emb @ W1 + b1`, but we cannot matrix multiply `[228146, 3, 4]` by `[6, 100]`. We need a way to concatenate the embedding into a smaller space.\n",
    "\n",
    "The theory is to break out each character in block_size, like `[emb[:, 0, :], emb[:, 1, :] ..., emb[:, n, :]`. The `torch.unbind()` function works here, but `<tensor>.view()` works even better.\n",
    "\n",
    "(`.view()` works even better because it just manipulates the \"view\" of the underlying storage of the tensor, which is just all the numbers in the tensor. concatenate & unbind create an entirely new tensor, which requires a lot of new memory.)"
   ]
  },
  {
   "cell_type": "code",
   "execution_count": 11,
   "metadata": {},
   "outputs": [
    {
     "data": {
      "text/plain": [
       "tensor(True)"
      ]
     },
     "execution_count": 11,
     "metadata": {},
     "output_type": "execute_result"
    }
   ],
   "source": [
    "# unbind embedding at the embedding's block_size dimension\n",
    "# 2nd dimension (block size of 3) indexed at 1\n",
    "\n",
    "# compare .view() to unbind & concat\n",
    "torch.all(emb.view(emb.shape[0], emb.shape[1]*emb.shape[2]) == torch.cat(torch.unbind(emb, 1), 1))"
   ]
  },
  {
   "cell_type": "code",
   "execution_count": 12,
   "metadata": {},
   "outputs": [
    {
     "name": "stdout",
     "output_type": "stream",
     "text": [
      "l1.shape=torch.Size([32, 100])\n"
     ]
    }
   ],
   "source": [
    "# multiply embedding by weights & biases in first layer\n",
    "l1 = emb.view(emb.shape[0], emb.shape[1]*emb.shape[2]) @ W1 + b1\n",
    "print(f'{l1.shape=}')"
   ]
  },
  {
   "cell_type": "code",
   "execution_count": 13,
   "metadata": {},
   "outputs": [],
   "source": [
    "# weights & biases of output layer\n",
    "W2 = torch.randn(layer1_size, char_total)\n",
    "b2 = torch.randn(char_total)"
   ]
  },
  {
   "cell_type": "code",
   "execution_count": 14,
   "metadata": {},
   "outputs": [
    {
     "name": "stdout",
     "output_type": "stream",
     "text": [
      "logits.shape=torch.Size([32, 27])\n",
      "prob.shape=torch.Size([32, 27])\n"
     ]
    }
   ],
   "source": [
    "# output layer (logits)\n",
    "logits = l1 @ W2 + b2\n",
    "print(f'{logits.shape=}')\n",
    "# softmax\n",
    "counts = logits.exp()\n",
    "prob = counts / counts.sum(1, keepdim=True)\n",
    "print(f'{prob.shape=}')"
   ]
  },
  {
   "cell_type": "code",
   "execution_count": 15,
   "metadata": {},
   "outputs": [
    {
     "name": "stdout",
     "output_type": "stream",
     "text": [
      "loss=tensor(36.4905)\n"
     ]
    }
   ],
   "source": [
    "# loss function (average negative log likelihood)\n",
    "loss = -prob[torch.arange(prob.shape[0]), Y].log().mean()\n",
    "print(f'{loss=}')"
   ]
  },
  {
   "cell_type": "markdown",
   "metadata": {},
   "source": [
    "## Review"
   ]
  },
  {
   "cell_type": "code",
   "execution_count": 111,
   "metadata": {},
   "outputs": [
    {
     "name": "stdout",
     "output_type": "stream",
     "text": [
      "X.shape=torch.Size([228146, 3])\n",
      "Y.shape=torch.Size([228146])\n",
      "C.shape=torch.Size([27, 2])\n",
      "W1.shape=torch.Size([6, 100])\n",
      "b1.shape=torch.Size([100])\n",
      "W2.shape=torch.Size([100, 27])\n",
      "b2.shape=torch.Size([27])\n",
      "Parameter total: 3481\n",
      "emb.shape=torch.Size([228146, 3, 2])\n",
      "l1.shape=torch.Size([228146, 100])\n",
      "logits.shape=torch.Size([228146, 27])\n",
      "counts.shape=torch.Size([228146, 27])\n",
      "prob.shape=torch.Size([228146, 27])\n",
      "loss=tensor(19.5052)\n"
     ]
    }
   ],
   "source": [
    "print(f'{X.shape=}')\n",
    "print(f'{Y.shape=}')\n",
    "\n",
    "g = torch.Generator().manual_seed(2147483647)\n",
    "\n",
    "C = torch.randn((char_total, char_dim), generator=g)\n",
    "W1 = torch.randn((char_dim*block_size, layer1_size), generator=g)\n",
    "b1 = torch.randn(layer1_size, generator=g)\n",
    "W2 = torch.randn((layer1_size, char_total), generator=g)\n",
    "b2 = torch.randn(char_total, generator=g)\n",
    "parameters = [C, W1, b1, W2, b2]\n",
    "print(f'{C.shape=}')\n",
    "print(f'{W1.shape=}')\n",
    "print(f'{b1.shape=}')\n",
    "print(f'{W2.shape=}')\n",
    "print(f'{b2.shape=}')\n",
    "print('Parameter total:', sum(p.nelement() for p in parameters))\n",
    "\n",
    "emb = C[X]\n",
    "l1 = torch.tanh(emb.view(-1, char_dim*block_size) @ W1 + b1)\n",
    "logits = l1 @ W2 + b2\n",
    "counts = logits.exp()\n",
    "prob = counts / counts.sum(1, keepdim=True)\n",
    "loss = -prob[torch.arange(prob.shape[0]), Y].log().mean()\n",
    "print(f'{emb.shape=}')\n",
    "print(f'{l1.shape=}')\n",
    "print(f'{logits.shape=}')\n",
    "print(f'{counts.shape=}')\n",
    "print(f'{prob.shape=}')\n",
    "print(f'{loss=}')"
   ]
  },
  {
   "cell_type": "markdown",
   "metadata": {},
   "source": [
    "Converting the logits to loss manually is reinventing the wheel. We can use torch's `.cross_entropy()` to do exactly this."
   ]
  },
  {
   "cell_type": "code",
   "execution_count": 24,
   "metadata": {},
   "outputs": [
    {
     "name": "stdout",
     "output_type": "stream",
     "text": [
      "cross_entropy_loss=tensor(17.7697)\n"
     ]
    }
   ],
   "source": [
    "cross_entropy_loss = F.cross_entropy(logits, Y)\n",
    "print(f'{cross_entropy_loss=}')"
   ]
  },
  {
   "cell_type": "code",
   "execution_count": 112,
   "metadata": {},
   "outputs": [],
   "source": [
    "# all parameters require a gradient (to tune)\n",
    "for p in parameters:\n",
    "    p.requires_grad = True"
   ]
  },
  {
   "cell_type": "code",
   "execution_count": 85,
   "metadata": {},
   "outputs": [],
   "source": [
    "# define learning rate\n",
    "lr = 0.4"
   ]
  },
  {
   "cell_type": "code",
   "execution_count": 72,
   "metadata": {},
   "outputs": [],
   "source": [
    "# redefine X and Y to include entire dataset\n",
    "\n",
    "X, Y = [], []\n",
    "for w in words:\n",
    "  \n",
    "  #print(w)\n",
    "  context = [0] * block_size\n",
    "  for ch in w + '.':\n",
    "    ix = stoi[ch]\n",
    "    X.append(context)\n",
    "    Y.append(ix)\n",
    "    #print(''.join(itos[i] for i in context), '--->', itos[ix])\n",
    "    context = context[1:] + [ix] # crop and append\n",
    "  \n",
    "X = torch.tensor(X)\n",
    "Y = torch.tensor(Y)"
   ]
  },
  {
   "cell_type": "code",
   "execution_count": 73,
   "metadata": {},
   "outputs": [],
   "source": [
    "# define batch size for training\n",
    "batch_size = 32"
   ]
  },
  {
   "cell_type": "code",
   "execution_count": 113,
   "metadata": {},
   "outputs": [],
   "source": [
    "lre = torch.linspace(-3, 0, 1000) # linear learning rate linspace\n",
    "lrs = 10**lre # exponential instead of linear change in learning rate\n",
    "\n",
    "lri = []\n",
    "lossi = []\n",
    "for i in range(1000):\n",
    "    # construct minibatch\n",
    "    ix = torch.randint(0, X.shape[0], (batch_size,))\n",
    "\n",
    "    # forward pass\n",
    "    emb = C[X[ix]]\n",
    "    l1 = torch.tanh(emb.view(-1, char_dim*block_size) @ W1 + b1)\n",
    "    logits = l1 @ W2 + b2\n",
    "    loss = F.cross_entropy(logits, Y[ix])\n",
    "    # backward pass\n",
    "    for p in parameters:\n",
    "        p.grad = None\n",
    "    loss.backward()\n",
    "    # update\n",
    "    lr = lrs[i]\n",
    "    for p in parameters:\n",
    "        p.data += -lr * p.grad\n",
    "    # track stats\n",
    "    lri.append(lre[i])\n",
    "    lossi.append(loss.item())\n",
    "#print(f'{loss.item()=}')"
   ]
  },
  {
   "cell_type": "code",
   "execution_count": 114,
   "metadata": {},
   "outputs": [
    {
     "data": {
      "text/plain": [
       "[<matplotlib.lines.Line2D at 0x1b5589b8ac0>]"
      ]
     },
     "execution_count": 114,
     "metadata": {},
     "output_type": "execute_result"
    },
    {
     "data": {
      "image/png": "[encoded data removed]",
      "text/plain": [
       "<Figure size 640x480 with 1 Axes>"
      ]
     },
     "metadata": {},
     "output_type": "display_data"
    }
   ],
   "source": [
    "plt.plot(lri, lossi)"
   ]
  },
  {
   "cell_type": "code",
   "execution_count": 103,
   "metadata": {},
   "outputs": [
    {
     "name": "stdout",
     "output_type": "stream",
     "text": [
      "loss=tensor(3.3561, grad_fn=<NllLossBackward0>)\n"
     ]
    }
   ],
   "source": [
    "# checking loss on entire dataset\n",
    "emb = C[X]\n",
    "l1 = torch.tanh(emb.view(-1, char_dim*block_size) @ W1 + b1)\n",
    "logits = l1 @ W2 + b2\n",
    "loss = F.cross_entropy(logits, Y)\n",
    "print(f'{loss=}')"
   ]
  }
 ],
 "metadata": {
  "kernelspec": {
   "display_name": "venv",
   "language": "python",
   "name": "python3"
  },
  "language_info": {
   "codemirror_mode": {
    "name": "ipython",
    "version": 3
   },
   "file_extension": ".py",
   "mimetype": "text/x-python",
   "name": "python",
   "nbconvert_exporter": "python",
   "pygments_lexer": "ipython3",
   "version": "3.10.11"
  }
 },
 "nbformat": 4,
 "nbformat_minor": 2
}
